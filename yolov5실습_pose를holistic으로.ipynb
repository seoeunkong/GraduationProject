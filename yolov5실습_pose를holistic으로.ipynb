{
 "cells": [
  {
   "cell_type": "code",
   "execution_count": 1,
   "id": "d66ca44c",
   "metadata": {},
   "outputs": [
    {
     "name": "stdout",
     "output_type": "stream",
     "text": [
      "Requirement already satisfied: opencv-python in c:\\users\\seoeu\\anaconda3\\envs\\yolov5\\lib\\site-packages (4.5.5)\n",
      "Requirement already satisfied: mediapipe in c:\\users\\seoeu\\anaconda3\\envs\\yolov5\\lib\\site-packages (0.8.10)\n",
      "Requirement already satisfied: matplotlib in c:\\users\\seoeu\\anaconda3\\envs\\yolov5\\lib\\site-packages (3.5.1)\n",
      "Requirement already satisfied: absl-py in c:\\users\\seoeu\\anaconda3\\envs\\yolov5\\lib\\site-packages (from mediapipe) (1.0.0)\n",
      "Requirement already satisfied: protobuf>=3.11.4 in c:\\users\\seoeu\\anaconda3\\envs\\yolov5\\lib\\site-packages (from mediapipe) (3.20.1)\n",
      "Requirement already satisfied: attrs>=19.1.0 in c:\\users\\seoeu\\anaconda3\\envs\\yolov5\\lib\\site-packages (from mediapipe) (21.4.0)\n",
      "Requirement already satisfied: opencv-contrib-python in c:\\users\\seoeu\\anaconda3\\envs\\yolov5\\lib\\site-packages (from mediapipe) (4.5.5.64)\n",
      "Requirement already satisfied: numpy in c:\\users\\seoeu\\anaconda3\\envs\\yolov5\\lib\\site-packages (from mediapipe) (1.21.5)\n",
      "Requirement already satisfied: pyparsing>=2.2.1 in c:\\users\\seoeu\\anaconda3\\envs\\yolov5\\lib\\site-packages (from matplotlib) (3.0.4)\n",
      "Requirement already satisfied: pillow>=6.2.0 in c:\\users\\seoeu\\anaconda3\\envs\\yolov5\\lib\\site-packages (from matplotlib) (9.0.1)\n",
      "Requirement already satisfied: python-dateutil>=2.7 in c:\\users\\seoeu\\anaconda3\\envs\\yolov5\\lib\\site-packages (from matplotlib) (2.8.2)\n",
      "Requirement already satisfied: kiwisolver>=1.0.1 in c:\\users\\seoeu\\anaconda3\\envs\\yolov5\\lib\\site-packages (from matplotlib) (1.3.2)\n",
      "Requirement already satisfied: fonttools>=4.22.0 in c:\\users\\seoeu\\anaconda3\\envs\\yolov5\\lib\\site-packages (from matplotlib) (4.25.0)\n",
      "Requirement already satisfied: packaging>=20.0 in c:\\users\\seoeu\\anaconda3\\envs\\yolov5\\lib\\site-packages (from matplotlib) (21.3)\n",
      "Requirement already satisfied: cycler>=0.10 in c:\\users\\seoeu\\anaconda3\\envs\\yolov5\\lib\\site-packages (from matplotlib) (0.11.0)\n",
      "Requirement already satisfied: six>=1.5 in c:\\users\\seoeu\\anaconda3\\envs\\yolov5\\lib\\site-packages (from python-dateutil>=2.7->matplotlib) (1.16.0)\n"
     ]
    }
   ],
   "source": [
    "!pip install opencv-python mediapipe matplotlib"
   ]
  },
  {
   "cell_type": "code",
   "execution_count": 2,
   "id": "10f48797",
   "metadata": {},
   "outputs": [],
   "source": [
    "import os\n",
    "import matplotlib.pyplot as plt\n",
    "\n",
    "from PIL import Image\n",
    "import cv2\n",
    "\n",
    "import mediapipe as mp\n",
    "from mediapipe.python.solutions import holistic as mp_holistic\n",
    "\n",
    "# PyTorch Hub\n",
    "import torch"
   ]
  },
  {
   "cell_type": "code",
   "execution_count": 3,
   "id": "ef4683e3",
   "metadata": {},
   "outputs": [
    {
     "name": "stderr",
     "output_type": "stream",
     "text": [
      "Using cache found in C:\\Users\\seoeu/.cache\\torch\\hub\\ultralytics_yolov5_master\n",
      "YOLOv5  2022-5-17 Python-3.8.13 torch-1.11.0 CPU\n",
      "\n",
      "Fusing layers... \n",
      "YOLOv5s summary: 213 layers, 7225885 parameters, 0 gradients\n",
      "Adding AutoShape... \n"
     ]
    }
   ],
   "source": [
    "# 모델(yolov5) 가져오기\n",
    "yolo_model = torch.hub.load('ultralytics/yolov5', 'yolov5s')\n",
    "\n",
    "# 우리는 사람을 구분하는 것에 관심이 있으니깐\n",
    "yolo_model.classes=[0]"
   ]
  },
  {
   "cell_type": "code",
   "execution_count": 4,
   "id": "a309de77",
   "metadata": {},
   "outputs": [],
   "source": [
    "mp_drawing = mp.solutions.drawing_utils\n",
    "# 원래 우리 코드에서는 mp_holistic을 사용함\n",
    "# mp_pose를 mp_holistic으로 바꿔서 해봐야겠다\n",
    "mp_holistic =mp.solutions.holistic"
   ]
  },
  {
   "cell_type": "code",
   "execution_count": 5,
   "id": "4b374b63",
   "metadata": {},
   "outputs": [],
   "source": [
    "#video_path =\"walking1.mp4\""
   ]
  },
  {
   "cell_type": "code",
   "execution_count": 6,
   "id": "baf69c07",
   "metadata": {},
   "outputs": [
    {
     "name": "stdout",
     "output_type": "stream",
     "text": [
      "(640, 480)\n"
     ]
    }
   ],
   "source": [
    "# 비디오의 면적 구하기\n",
    "cap = cv2.VideoCapture(0)\n",
    "#cap = cv2.VideoCapture(video_path)\n",
    "while cap.isOpened():\n",
    "    ret, frame = cap.read()\n",
    "    h, w, _ = frame.shape\n",
    "    size = (w, h)\n",
    "    print(size)\n",
    "    break"
   ]
  },
  {
   "cell_type": "code",
   "execution_count": 8,
   "id": "72bea76b",
   "metadata": {},
   "outputs": [],
   "source": [
    "cap = cv2.VideoCapture(0)\n",
    "\n",
    "#for webacam cv2.VideoCapture(NUM) NUM -> 0,1,2 for primary and secondary webcams..\n",
    "\n",
    "#For saving the video file as output.avi\n",
    "# output.avi 생성. 우리는 필요 없음. 나중에 지워도 되는 코드\n",
    "#out = cv2.VideoWriter(\"output.avi\", cv2.VideoWriter_fourcc(*\"MJPG\"), 20, size)\n",
    "while cap.isOpened():    \n",
    "    ret, frame = cap.read()\n",
    "\n",
    "    # BGR에서 RGB로 변경\n",
    "    image = cv2.cvtColor(frame, cv2.COLOR_BGR2RGB)\n",
    "    # 예측 성능을 높이기 위해선 얘를 False로 하는 게 좋다고 함\n",
    "    image.flags.writeable = False    \n",
    "\n",
    "    result = yolo_model(image)    \n",
    "    \n",
    "    # 렌더링 위해 이미지를 다시 BGR로 바꿈\n",
    "    image.flags.writeable = True   \n",
    "    image = cv2.cvtColor(image, cv2.COLOR_RGB2BGR)\n",
    "    # print(result.xyxy)  # img1 predictions (tensor)\n",
    "\n",
    "    # 크롭된 이미지들 모아두는 배열(사람 개개인별로 분류한 것들)\n",
    "    img_list =[]\n",
    "    \n",
    "    # 사람을 올바르게 구분하려면 약간의 여유 공간이 있는 게 좋다고 함\n",
    "    MARGIN=10\n",
    "\n",
    "    # 이게 사람 구분하는 코드\n",
    "    for (xmin, ymin, xmax, ymax, confidence, clas) in result.xyxy[0].tolist():\n",
    "      with mp_holistic.Holistic(min_detection_confidence=0.3, min_tracking_confidence=0.3) as holistic:\n",
    "        #Media pose prediction ,we are \n",
    "        results = holistic.process(image[int(ymin)+MARGIN:int(ymax)+MARGIN,int(xmin)+MARGIN:int(xmax)+MARGIN:])\n",
    "\n",
    "        #Draw landmarks on image, if this thing is confusing please consider going through numpy array slicing \n",
    "        mp_drawing.draw_landmarks(image[int(ymin)+MARGIN:int(ymax)+MARGIN,int(xmin)+MARGIN:int(xmax)+MARGIN:], results.pose_landmarks, mp_holistic.POSE_CONNECTIONS,\n",
    "                            mp_drawing.DrawingSpec(color=(245,117,66), thickness=2, circle_radius=2), \n",
    "                            mp_drawing.DrawingSpec(color=(245,66,230), thickness=2, circle_radius=2) \n",
    "                              ) \n",
    "        img_list.append(image[int(ymin):int(ymax),int(xmin):int(xmax):])\n",
    "    cv2.imshow('walking', image)\n",
    "\n",
    "    # writing in the video file \n",
    "    #out.write(image)\n",
    "\n",
    "    ## Code to quit the video incase you are using the webcam             \n",
    "    # cv2.imshow('Activity recognition', image)\n",
    "    if cv2.waitKey(10) & 0xFF == ord('q'):\n",
    "        break\n",
    "\n",
    "cap.release()\n",
    "#out.release()\n",
    "cv2.destroyAllWindows()"
   ]
  }
 ],
 "metadata": {
  "kernelspec": {
   "display_name": "Python 3 (ipykernel)",
   "language": "python",
   "name": "python3"
  },
  "language_info": {
   "codemirror_mode": {
    "name": "ipython",
    "version": 3
   },
   "file_extension": ".py",
   "mimetype": "text/x-python",
   "name": "python",
   "nbconvert_exporter": "python",
   "pygments_lexer": "ipython3",
   "version": "3.8.13"
  }
 },
 "nbformat": 4,
 "nbformat_minor": 5
}
